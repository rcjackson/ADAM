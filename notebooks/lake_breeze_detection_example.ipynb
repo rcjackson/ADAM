{
 "cells": [
  {
   "cell_type": "markdown",
   "id": "1a031c7d",
   "metadata": {},
   "source": [
    "## Plotting the location of the lake breeze and analyzing occurrence for a pneumonia front over Chicago.\n"
   ]
  },
  {
   "cell_type": "markdown",
   "id": "d0183feb",
   "metadata": {},
   "source": [
    "This example notebook shows how to use ADAM to infer the lake breeze location over Chicago. We choose the pneumonia front over Chicago that occured on April 24, 2025 as our case.\n"
   ]
  },
  {
   "cell_type": "code",
   "execution_count": 61,
   "id": "04aecfd3",
   "metadata": {},
   "outputs": [],
   "source": [
    "import adam\n",
    "import pyart\n",
    "import numpy as np\n",
    "import matplotlib.pyplot as plt\n",
    "\n",
    "from scipy.optimize import minimize\n",
    "from scipy.ndimage import center_of_mass"
   ]
  },
  {
   "cell_type": "markdown",
   "id": "9924630a",
   "metadata": {},
   "source": [
    "To begin, we preprocess the radar data to extract the reflectivity fields necessary for lake breeze detection. The ADAM library streamlines this process by converting radar reflectivity fields into ImageNet-compatible images, which are then ready for use with inference models. For batch processing of multiple NEXRAD files, use `adam.io.preprocess_radar_image_batch`; for single images, use `adam.io.preprocess_radar_image`.\n",
    "\n",
    "By default, `adam.io.preprocess_radar_image_batch` leverages Dask to perform parallel pre-processing on a list of files. If you prefer serial processing, simply set the `parallel` keyword argument to `False`."
   ]
  },
  {
   "cell_type": "code",
   "execution_count": 62,
   "metadata": {},
   "outputs": [
    {
     "name": "stdout",
     "output_type": "stream",
     "text": [
      "\n",
      "## You are using the Python ARM Radar Toolkit (Py-ART), an open source\n",
      "## library for working with weather radar data. Py-ART is partly\n",
      "## supported by the U.S. Department of Energy as part of the Atmospheric\n",
      "## Radiation Measurement (ARM) Climate Research Facility, an Office of\n",
      "## Science user facility.\n",
      "##\n",
      "## If you use this software to prepare a publication, please cite:\n",
      "##\n",
      "##     JJ Helmus and SM Collis, JORS 2016, doi: 10.5334/jors.119\n",
      "\n",
      "## You are using the Python ARM Radar Toolkit (Py-ART), an open source\n",
      "## library for working with weather radar data. Py-ART is partly\n",
      "## supported by the U.S. Department of Energy as part of the Atmospheric\n",
      "## Radiation Measurement (ARM) Climate Research Facility, an Office of\n",
      "## Science user facility.\n",
      "##\n",
      "## If you use this software to prepare a publication, please cite:\n",
      "##\n",
      "##     JJ Helmus and SM Collis, JORS 2016, doi: 10.5334/jors.119\n",
      "\n",
      "## You are using the Python ARM Radar Toolkit (Py-ART), an open source\n",
      "## library for working with weather radar data. Py-ART is partly\n",
      "## supported by the U.S. Department of Energy as part of the Atmospheric\n",
      "## Radiation Measurement (ARM) Climate Research Facility, an Office of\n",
      "## Science user facility.\n",
      "##\n",
      "## If you use this software to prepare a publication, please cite:\n",
      "##\n",
      "##     JJ Helmus and SM Collis, JORS 2016, doi: 10.5334/jors.119\n",
      "\n",
      "\n",
      "\n",
      "\n",
      "## You are using the Python ARM Radar Toolkit (Py-ART), an open source\n",
      "## library for working with weather radar data. Py-ART is partly\n",
      "## supported by the U.S. Department of Energy as part of the Atmospheric\n",
      "## Radiation Measurement (ARM) Climate Research Facility, an Office of\n",
      "## Science user facility.\n",
      "##\n",
      "## If you use this software to prepare a publication, please cite:\n",
      "##\n",
      "##     JJ Helmus and SM Collis, JORS 2016, doi: 10.5334/jors.119\n",
      "\n",
      "## You are using the Python ARM Radar Toolkit (Py-ART), an open source\n",
      "## library for working with weather radar data. Py-ART is partly\n",
      "## supported by the U.S. Department of Energy as part of the Atmospheric\n",
      "## Radiation Measurement (ARM) Climate Research Facility, an Office of\n",
      "## Science user facility.\n",
      "##\n",
      "## If you use this software to prepare a publication, please cite:\n",
      "##\n",
      "##     JJ Helmus and SM Collis, JORS 2016, doi: 10.5334/jors.119\n",
      "\n",
      "\n",
      "\n",
      "## You are using the Python ARM Radar Toolkit (Py-ART), an open source\n",
      "## library for working with weather radar data. Py-ART is partly\n",
      "## supported by the U.S. Department of Energy as part of the Atmospheric\n",
      "## Radiation Measurement (ARM) Climate Research Facility, an Office of\n",
      "## Science user facility.\n",
      "##\n",
      "## If you use this software to prepare a publication, please cite:\n",
      "##\n",
      "##     JJ Helmus and SM Collis, JORS 2016, doi: 10.5334/jors.119\n",
      "\n",
      "## You are using the Python ARM Radar Toolkit (Py-ART), an open source\n",
      "## library for working with weather radar data. Py-ART is partly\n",
      "## supported by the U.S. Department of Energy as part of the Atmospheric\n",
      "## Radiation Measurement (ARM) Climate Research Facility, an Office of\n",
      "## Science user facility.\n",
      "##\n",
      "## If you use this software to prepare a publication, please cite:\n",
      "##\n",
      "##     JJ Helmus and SM Collis, JORS 2016, doi: 10.5334/jors.119\n",
      "\n",
      "\n",
      "\n",
      "## You are using the Python ARM Radar Toolkit (Py-ART), an open source\n",
      "## library for working with weather radar data. Py-ART is partly\n",
      "## supported by the U.S. Department of Energy as part of the Atmospheric\n",
      "## Radiation Measurement (ARM) Climate Research Facility, an Office of\n",
      "## Science user facility.\n",
      "##\n",
      "## If you use this software to prepare a publication, please cite:\n",
      "##\n",
      "##     JJ Helmus and SM Collis, JORS 2016, doi: 10.5334/jors.119\n",
      "\n"
     ]
    }
   ],
   "source": [
    "rad_scan1 = adam.io.preprocess_radar_image_batch('/Users/rjackson/klot_batch_test/*_*V06', parallel=True)"
   ]
  },
  {
   "cell_type": "markdown",
   "id": "639538e5",
   "metadata": {},
   "source": [
    "If you want to process a single radar image, use "
   ]
  },
  {
   "cell_type": "code",
   "execution_count": null,
   "id": "114a5257",
   "metadata": {},
   "outputs": [],
   "source": [
    "rad_scan = adam.io.preprocess_radar_image('KLOT', '2025-04-24T19:42:38')\n",
    "rad_scan.pyart_object.time"
   ]
  },
  {
   "cell_type": "code",
   "execution_count": null,
   "id": "02d1310d",
   "metadata": {},
   "outputs": [],
   "source": [
    " np.datetime64(rad_scan.pyart_object.time[\"units\"].split()[2]) == np.datetime64('2025-07-17T16:58:43')"
   ]
  },
  {
   "cell_type": "code",
   "execution_count": 63,
   "id": "64c3e305",
   "metadata": {},
   "outputs": [],
   "source": [
    "rad_scan = adam.model.infer_lake_breeze_batch(\n",
    "    rad_scan1, model_name='lakebreeze_model_fcn_resnet50_no_augmentation')"
   ]
  },
  {
   "cell_type": "code",
   "execution_count": 64,
   "id": "41dd306f",
   "metadata": {},
   "outputs": [
    {
     "ename": "ValueError",
     "evalue": "Since the input radar_scan represents a batch of radar files, the UTC time in YYYY-MM-DDTHH:MM:SS format must be specified!",
     "output_type": "error",
     "traceback": [
      "\u001b[31m---------------------------------------------------------------------------\u001b[39m",
      "\u001b[31mValueError\u001b[39m                                Traceback (most recent call last)",
      "\u001b[36mCell\u001b[39m\u001b[36m \u001b[39m\u001b[32mIn[64]\u001b[39m\u001b[32m, line 1\u001b[39m\n\u001b[32m----> \u001b[39m\u001b[32m1\u001b[39m \u001b[43madam\u001b[49m\u001b[43m.\u001b[49m\u001b[43mvis\u001b[49m\u001b[43m.\u001b[49m\u001b[43mvisualize_lake_breeze\u001b[49m\u001b[43m(\u001b[49m\u001b[43mrad_scan\u001b[49m\u001b[43m,\u001b[49m\u001b[43m \u001b[49m\u001b[43mvmin\u001b[49m\u001b[43m=\u001b[49m\u001b[43m-\u001b[49m\u001b[32;43m30\u001b[39;49m\u001b[43m,\u001b[49m\u001b[43m \u001b[49m\u001b[43mvmax\u001b[49m\u001b[43m=\u001b[49m\u001b[32;43m60\u001b[39;49m\u001b[43m,\u001b[49m\u001b[43m \u001b[49m\u001b[43mcmap\u001b[49m\u001b[43m=\u001b[49m\u001b[33;43m'\u001b[39;49m\u001b[33;43mHomeyerRainbow\u001b[39;49m\u001b[33;43m'\u001b[39;49m\u001b[43m)\u001b[49m\n",
      "\u001b[36mFile \u001b[39m\u001b[32m~/ADAM/src/adam/vis/visualize_lake_breeze.py:44\u001b[39m, in \u001b[36mvisualize_lake_breeze\u001b[39m\u001b[34m(radar_scan, bg_field, time, **kwargs)\u001b[39m\n\u001b[32m     42\u001b[39m my_times = np.array(radar_scan.times)\n\u001b[32m     43\u001b[39m \u001b[38;5;28;01mif\u001b[39;00m time \u001b[38;5;129;01mis\u001b[39;00m \u001b[38;5;28;01mNone\u001b[39;00m:\n\u001b[32m---> \u001b[39m\u001b[32m44\u001b[39m     \u001b[38;5;28;01mraise\u001b[39;00m \u001b[38;5;167;01mValueError\u001b[39;00m(\u001b[33m\"\u001b[39m\u001b[33mSince the input radar_scan represents a batch of radar files, the UTC time in YYYY-MM-DDTHH:MM:SS format must be specified!\u001b[39m\u001b[33m\"\u001b[39m)\n\u001b[32m     45\u001b[39m target_time = np.datetime64(time)\n\u001b[32m     46\u001b[39m my_ind = np.argmin(np.abs(my_times - target_time))\n",
      "\u001b[31mValueError\u001b[39m: Since the input radar_scan represents a batch of radar files, the UTC time in YYYY-MM-DDTHH:MM:SS format must be specified!"
     ]
    }
   ],
   "source": [
    "adam.vis.visualize_lake_breeze(rad_scan, vmin=-30, vmax=60, cmap='HomeyerRainbow')"
   ]
  },
  {
   "cell_type": "markdown",
   "id": "91050184",
   "metadata": {},
   "source": [
    "## Plot a density plot of the lake breeze occurrence over Chicago for the day"
   ]
  },
  {
   "cell_type": "code",
   "execution_count": null,
   "id": "7c15f7c9",
   "metadata": {},
   "outputs": [],
   "source": []
  },
  {
   "cell_type": "markdown",
   "id": "83aa8628",
   "metadata": {},
   "source": []
  }
 ],
 "metadata": {
  "kernelspec": {
   "display_name": "torch_env",
   "language": "python",
   "name": "python3"
  },
  "language_info": {
   "codemirror_mode": {
    "name": "ipython",
    "version": 3
   },
   "file_extension": ".py",
   "mimetype": "text/x-python",
   "name": "python",
   "nbconvert_exporter": "python",
   "pygments_lexer": "ipython3",
   "version": "3.13.2"
  }
 },
 "nbformat": 4,
 "nbformat_minor": 5
}
